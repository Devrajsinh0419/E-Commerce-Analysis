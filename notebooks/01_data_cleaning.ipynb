{
 "cells": [
  {
   "cell_type": "code",
   "execution_count": null,
   "id": "ef6f7908",
   "metadata": {
    "vscode": {
     "languageId": "plaintext"
    }
   },
   "outputs": [],
   "source": [
    "# 1️⃣ Import Libraries\n",
    "import pandas as pd\n",
    "\n",
    "# 2️⃣ Load Datasets\n",
    "customers = pd.read_csv('../data/raw/olist_customers_dataset.csv')\n",
    "orders = pd.read_csv('../data/raw/olist_orders_dataset.csv')\n",
    "order_items = pd.read_csv('../data/raw/olist_order_items_dataset.csv')\n",
    "products = pd.read_csv('../data/raw/olist_products_dataset.csv')\n",
    "payments = pd.read_csv('../data/raw/olist_order_payments_dataset.csv')\n",
    "reviews = pd.read_csv('../data/raw/olist_order_reviews_dataset.csv')\n",
    "\n",
    "# 3️⃣ Quick Peek\n",
    "print(customers.head())\n",
    "print(orders.head())\n",
    "\n",
    "# 4️⃣ Merge Customers with Orders\n",
    "cust_orders = orders.merge(customers, on='customer_id', how='left')\n",
    "\n",
    "# 5️⃣ Merge with Order Items\n",
    "cust_orders_items = cust_orders.merge(order_items, on='order_id', how='left')\n",
    "\n",
    "# 6️⃣ Merge with Products\n",
    "merged_data = cust_orders_items.merge(products, on='product_id', how='left')\n",
    "\n",
    "# 7️⃣ Merge with Payments\n",
    "merged_data = merged_data.merge(payments, on='order_id', how='left')\n",
    "\n",
    "# 8️⃣ Merge with Reviews\n",
    "merged_data = merged_data.merge(reviews, on='order_id', how='left')\n",
    "\n",
    "# 9️⃣ Save Merged Clean Data\n",
    "merged_data.to_csv('../data/processed/merged_olist_data.csv', index=False)\n",
    "\n",
    "print(\"✅ Data Loaded, Merged & Saved Successfully.\")\n"
   ]
  }
 ],
 "metadata": {
  "language_info": {
   "name": "python"
  }
 },
 "nbformat": 4,
 "nbformat_minor": 5
}
